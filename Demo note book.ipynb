{
    "cells": [
        {
            "cell_type": "code",
            "execution_count": 1,
            "metadata": {},
            "outputs": [
                {
                    "name": "stdout",
                    "output_type": "stream",
                    "text": "Waiting for a Spark session to start...\nSpark Initialization Done! ApplicationId = app-20220122134152-0000\nKERNEL_ID = 51aea87d-874b-4910-bf49-d16ecbab6a53\n"
                },
                {
                    "data": {
                        "text/html": "<div>\n<style scoped>\n    .dataframe tbody tr th:only-of-type {\n        vertical-align: middle;\n    }\n\n    .dataframe tbody tr th {\n        vertical-align: top;\n    }\n\n    .dataframe thead th {\n        text-align: right;\n    }\n</style>\n<table border=\"1\" class=\"dataframe\">\n  <thead>\n    <tr style=\"text-align: right;\">\n      <th></th>\n      <th>customer_id</th>\n      <th>age</th>\n      <th>age_youngest_child</th>\n      <th>debt_equity</th>\n      <th>gender</th>\n      <th>bad_payment</th>\n      <th>gold_card</th>\n      <th>pension_plan</th>\n      <th>household_debt_to_equity_ratio</th>\n      <th>income</th>\n      <th>...</th>\n      <th>call_center_contacts</th>\n      <th>loan_accounts</th>\n      <th>number_products</th>\n      <th>number_transactions</th>\n      <th>non_worker_percentage</th>\n      <th>white_collar_percentage</th>\n      <th>rfm_score</th>\n      <th>Mortgage</th>\n      <th>Pension</th>\n      <th>Savings</th>\n    </tr>\n  </thead>\n  <tbody>\n    <tr>\n      <th>0</th>\n      <td>15</td>\n      <td>45</td>\n      <td>12</td>\n      <td>45</td>\n      <td>0</td>\n      <td>0</td>\n      <td>0</td>\n      <td>0</td>\n      <td>65</td>\n      <td>13453</td>\n      <td>...</td>\n      <td>0</td>\n      <td>4</td>\n      <td>2</td>\n      <td>1</td>\n      <td>14</td>\n      <td>19</td>\n      <td>7.602</td>\n      <td>0</td>\n      <td>0</td>\n      <td>0</td>\n    </tr>\n    <tr>\n      <th>1</th>\n      <td>16</td>\n      <td>43</td>\n      <td>12</td>\n      <td>43</td>\n      <td>0</td>\n      <td>0</td>\n      <td>0</td>\n      <td>0</td>\n      <td>65</td>\n      <td>13453</td>\n      <td>...</td>\n      <td>0</td>\n      <td>0</td>\n      <td>3</td>\n      <td>2</td>\n      <td>14</td>\n      <td>19</td>\n      <td>10.143</td>\n      <td>0</td>\n      <td>0</td>\n      <td>0</td>\n    </tr>\n    <tr>\n      <th>2</th>\n      <td>30</td>\n      <td>23</td>\n      <td>0</td>\n      <td>23</td>\n      <td>0</td>\n      <td>0</td>\n      <td>0</td>\n      <td>0</td>\n      <td>65</td>\n      <td>13453</td>\n      <td>...</td>\n      <td>0</td>\n      <td>1</td>\n      <td>0</td>\n      <td>0</td>\n      <td>14</td>\n      <td>19</td>\n      <td>0.000</td>\n      <td>0</td>\n      <td>0</td>\n      <td>0</td>\n    </tr>\n    <tr>\n      <th>3</th>\n      <td>42</td>\n      <td>35</td>\n      <td>8</td>\n      <td>35</td>\n      <td>1</td>\n      <td>0</td>\n      <td>0</td>\n      <td>0</td>\n      <td>65</td>\n      <td>13453</td>\n      <td>...</td>\n      <td>0</td>\n      <td>1</td>\n      <td>0</td>\n      <td>0</td>\n      <td>14</td>\n      <td>19</td>\n      <td>0.000</td>\n      <td>0</td>\n      <td>1</td>\n      <td>0</td>\n    </tr>\n    <tr>\n      <th>4</th>\n      <td>52</td>\n      <td>43</td>\n      <td>12</td>\n      <td>43</td>\n      <td>1</td>\n      <td>0</td>\n      <td>0</td>\n      <td>0</td>\n      <td>47</td>\n      <td>14124</td>\n      <td>...</td>\n      <td>3</td>\n      <td>1</td>\n      <td>0</td>\n      <td>0</td>\n      <td>16</td>\n      <td>35</td>\n      <td>0.000</td>\n      <td>0</td>\n      <td>1</td>\n      <td>0</td>\n    </tr>\n  </tbody>\n</table>\n<p>5 rows \u00d7 23 columns</p>\n</div>",
                        "text/plain": "   customer_id  age  age_youngest_child  debt_equity  gender  bad_payment  \\\n0           15   45                  12           45       0            0   \n1           16   43                  12           43       0            0   \n2           30   23                   0           23       0            0   \n3           42   35                   8           35       1            0   \n4           52   43                  12           43       1            0   \n\n   gold_card  pension_plan  household_debt_to_equity_ratio  income  ...  \\\n0          0             0                              65   13453  ...   \n1          0             0                              65   13453  ...   \n2          0             0                              65   13453  ...   \n3          0             0                              65   13453  ...   \n4          0             0                              47   14124  ...   \n\n   call_center_contacts  loan_accounts  number_products  number_transactions  \\\n0                     0              4                2                    1   \n1                     0              0                3                    2   \n2                     0              1                0                    0   \n3                     0              1                0                    0   \n4                     3              1                0                    0   \n\n   non_worker_percentage  white_collar_percentage  rfm_score  Mortgage  \\\n0                     14                       19      7.602         0   \n1                     14                       19     10.143         0   \n2                     14                       19      0.000         0   \n3                     14                       19      0.000         0   \n4                     16                       35      0.000         0   \n\n   Pension  Savings  \n0        0        0  \n1        0        0  \n2        0        0  \n3        1        0  \n4        1        0  \n\n[5 rows x 23 columns]"
                    },
                    "execution_count": 1,
                    "metadata": {},
                    "output_type": "execute_result"
                }
            ],
            "source": "# The code was removed by Watson Studio for sharing."
        },
        {
            "cell_type": "code",
            "execution_count": null,
            "metadata": {},
            "outputs": [],
            "source": ""
        }
    ],
    "metadata": {
        "kernelspec": {
            "display_name": "Python 3.7 with Spark",
            "language": "python3",
            "name": "python37"
        },
        "language_info": {
            "codemirror_mode": {
                "name": "ipython",
                "version": 3
            },
            "file_extension": ".py",
            "mimetype": "text/x-python",
            "name": "python",
            "nbconvert_exporter": "python",
            "pygments_lexer": "ipython3",
            "version": "3.7.11"
        }
    },
    "nbformat": 4,
    "nbformat_minor": 1
}